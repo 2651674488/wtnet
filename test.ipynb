{
 "cells": [
  {
   "cell_type": "code",
   "execution_count": 1,
   "id": "271e9ec0-676a-4d19-aa2f-8350babc5424",
   "metadata": {},
   "outputs": [],
   "source": [
    "import torch\n",
    "pred_len = 96\n",
    "x = torch.arange(16*pred_len*512).reshape(16,pred_len,512)"
   ]
  },
  {
   "cell_type": "code",
   "execution_count": 2,
   "id": "a1399471-93ab-4c3b-a296-4909ba32a8de",
   "metadata": {},
   "outputs": [
    {
     "name": "stdout",
     "output_type": "stream",
     "text": [
      "Layer 0: len = (16, 18, 512)\n",
      "Layer 1: len = (16, 18, 512)\n",
      "Layer 2: len = (16, 29, 512)\n",
      "Layer 3: len = (16, 51, 512)\n"
     ]
    }
   ],
   "source": [
    "import pywt\n",
    "\n",
    "levels = 3\n",
    "coeffs1 = pywt.wavedec(x, 'db4', level=levels, axis = 1)\n",
    "for i in range(len(coeffs1)):\n",
    "    print(f\"Layer {i}: len = {coeffs1[i].shape}\")"
   ]
  },
  {
   "cell_type": "code",
   "execution_count": 9,
   "id": "bf45311b-e06b-4a6e-ae96-6547a216322c",
   "metadata": {},
   "outputs": [
    {
     "name": "stdout",
     "output_type": "stream",
     "text": [
      "51\n",
      "29\n",
      "18\n"
     ]
    }
   ],
   "source": [
    "import math\n",
    "pred_len = 96\n",
    "for i in range(levels):\n",
    "    pred_len = int((pred_len + 8 - 1 )/ 2)\n",
    "    print(pred_len)"
   ]
  },
  {
   "cell_type": "code",
   "execution_count": null,
   "id": "ed192950-521a-4253-be8a-e9a4fc22e73b",
   "metadata": {},
   "outputs": [],
   "source": []
  }
 ],
 "metadata": {
  "kernelspec": {
   "display_name": "Python 3 (ipykernel)",
   "language": "python",
   "name": "python3"
  },
  "language_info": {
   "codemirror_mode": {
    "name": "ipython",
    "version": 3
   },
   "file_extension": ".py",
   "mimetype": "text/x-python",
   "name": "python",
   "nbconvert_exporter": "python",
   "pygments_lexer": "ipython3",
   "version": "3.10.16"
  }
 },
 "nbformat": 4,
 "nbformat_minor": 5
}
