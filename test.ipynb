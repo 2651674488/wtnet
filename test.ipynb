{
 "cells": [
  {
   "cell_type": "code",
   "execution_count": 1,
   "id": "271e9ec0-676a-4d19-aa2f-8350babc5424",
   "metadata": {},
   "outputs": [],
   "source": [
    "import torch\n",
    "pred_len = 96\n",
    "x = torch.arange(16*pred_len*512).reshape(16,pred_len,1)"
   ]
  },
  {
   "cell_type": "code",
   "execution_count": 2,
   "id": "a1399471-93ab-4c3b-a296-4909ba32a8de",
   "metadata": {},
   "outputs": [
    {
     "name": "stdout",
     "output_type": "stream",
     "text": [
      "Layer 0: len = (16, 18, 512)\n",
      "Layer 1: len = (16, 18, 512)\n",
      "Layer 2: len = (16, 29, 512)\n",
      "Layer 3: len = (16, 51, 512)\n"
     ]
    }
   ],
   "source": [
    "import pywt\n",
    "\n",
    "levels = 3\n",
    "coeffs1 = pywt.wavedec(x, 'db4', level=levels, axis = 1)\n",
    "for i in range(len(coeffs1)):\n",
    "    print(f\"Layer {i}: len = {coeffs1[i].shape}\")"
   ]
  },
  {
   "metadata": {
    "ExecuteTime": {
     "end_time": "2025-04-19T06:52:06.951030Z",
     "start_time": "2025-04-19T06:52:06.924018Z"
    }
   },
   "cell_type": "code",
   "source": [
    "import torch\n",
    "import torch.nn as nn\n",
    "from pytorch_wavelets import DWT1D\n",
    "\n",
    "# 假设输入 x 的形状是 [batch, length, channels]\n",
    "batch, length, channels = 32, 96, 3\n",
    "x = torch.randn(batch, length, channels)\n",
    "\n",
    "# 调整维度以适应 DWT1D\n",
    "x_permuted = x.permute(0, 2, 1)          # [batch, channels, length]        # [batch, channels, length, 1]\n",
    "\n",
    "# 初始化 DWT1D\n",
    "dwt = DWT1D(wave='db1', J=3)             # J 是分解层数\n",
    "coeffs = dwt(x_permuted)\n",
    "# for i in range(len(coeffs)):\n",
    "#     print(f\"Layer {i}: len = {type(coeffs[i])}\")\n",
    "len(coeffs)"
   ],
   "id": "e302e792e7c1de92",
   "outputs": [
    {
     "data": {
      "text/plain": [
       "2"
      ]
     },
     "execution_count": 15,
     "metadata": {},
     "output_type": "execute_result"
    }
   ],
   "execution_count": 15
  },
  {
   "metadata": {},
   "cell_type": "code",
   "outputs": [],
   "execution_count": null,
   "source": "",
   "id": "42695847ca3beb73"
  }
 ],
 "metadata": {
  "kernelspec": {
   "display_name": "Python 3 (ipykernel)",
   "language": "python",
   "name": "python3"
  },
  "language_info": {
   "codemirror_mode": {
    "name": "ipython",
    "version": 3
   },
   "file_extension": ".py",
   "mimetype": "text/x-python",
   "name": "python",
   "nbconvert_exporter": "python",
   "pygments_lexer": "ipython3",
   "version": "3.10.16"
  }
 },
 "nbformat": 4,
 "nbformat_minor": 5
}
