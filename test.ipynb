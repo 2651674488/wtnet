{
 "cells": [
  {
   "cell_type": "code",
   "execution_count": 1,
   "id": "271e9ec0-676a-4d19-aa2f-8350babc5424",
   "metadata": {},
   "outputs": [],
   "source": [
    "import torch\n",
    "pred_len = 192\n",
    "a = torch.arange(16*pred_len*7).reshape(16,pred_len,7)"
   ]
  },
  {
   "cell_type": "code",
   "execution_count": 3,
   "id": "a1399471-93ab-4c3b-a296-4909ba32a8de",
   "metadata": {},
   "outputs": [
    {
     "name": "stdout",
     "output_type": "stream",
     "text": [
      "Layer 1:\n",
      "  Approx shape: (16, 192, 7)\n",
      "  Detail shape: (16, 192, 7)\n",
      "Layer 2:\n",
      "  Approx shape: (16, 192, 7)\n",
      "  Detail shape: (16, 192, 7)\n",
      "Layer 3:\n",
      "  Approx shape: (16, 192, 7)\n",
      "  Detail shape: (16, 192, 7)\n"
     ]
    },
    {
     "ename": "TypeError",
     "evalue": "expected Tensor as element 0 in argument 0, but got numpy.ndarray",
     "output_type": "error",
     "traceback": [
      "\u001b[1;31m---------------------------------------------------------------------------\u001b[0m",
      "\u001b[1;31mTypeError\u001b[0m                                 Traceback (most recent call last)",
      "Cell \u001b[1;32mIn[3], line 18\u001b[0m\n\u001b[0;32m     16\u001b[0m     pred_approx_list\u001b[38;5;241m.\u001b[39mappend(approx)\n\u001b[0;32m     17\u001b[0m     pred_detail_list\u001b[38;5;241m.\u001b[39mappend(detail)\n\u001b[1;32m---> 18\u001b[0m pred_approx_all \u001b[38;5;241m=\u001b[39m reduce(\u001b[43mtorch\u001b[49m\u001b[38;5;241;43m.\u001b[39;49m\u001b[43mstack\u001b[49m\u001b[43m(\u001b[49m\u001b[43mpred_approx_list\u001b[49m\u001b[43m,\u001b[49m\u001b[43m \u001b[49m\u001b[38;5;241;43m0\u001b[39;49m\u001b[43m)\u001b[49m, \u001b[38;5;124m\"\u001b[39m\u001b[38;5;124mh b l c -> b l c\u001b[39m\u001b[38;5;124m\"\u001b[39m,\u001b[38;5;124m\"\u001b[39m\u001b[38;5;124msum\u001b[39m\u001b[38;5;124m\"\u001b[39m)\n\u001b[0;32m     19\u001b[0m pred_detail_all \u001b[38;5;241m=\u001b[39m reduce(torch\u001b[38;5;241m.\u001b[39mstack(pred_detail_list, \u001b[38;5;241m0\u001b[39m), \u001b[38;5;124m\"\u001b[39m\u001b[38;5;124mh b l c -> b l c\u001b[39m\u001b[38;5;124m\"\u001b[39m,\u001b[38;5;124m\"\u001b[39m\u001b[38;5;124msum\u001b[39m\u001b[38;5;124m\"\u001b[39m)\n\u001b[0;32m     20\u001b[0m pred_approx_all\u001b[38;5;241m.\u001b[39mshape, pred_detail_all\u001b[38;5;241m.\u001b[39mshape\n",
      "\u001b[1;31mTypeError\u001b[0m: expected Tensor as element 0 in argument 0, but got numpy.ndarray"
     ]
    }
   ],
   "source": [
    "import pywt\n",
    "from einops import reduce\n",
    "import numpy as np\n",
    "\n",
    "x = a\n",
    "levels = 3\n",
    "x = x.numpy()\n",
    "pred_approx_list = []\n",
    "pred_detail_list = []\n",
    "coeffs1 = pywt.swt(x, 'db4', level=levels, axis = 1)\n",
    "for i in range(len(coeffs1)):\n",
    "    approx, detail = coeffs1[i]  # 解包近似系数和细节系数\n",
    "    print(f\"Layer {i+1}:\")\n",
    "    print(f\"  Approx shape: {approx.shape}\")  # 输出: (16, 192, 512)\n",
    "    print(f\"  Detail shape: {detail.shape}\")  # 输出: (16, 192, 512)\n",
    "    pred_approx_list.append(approx)\n",
    "    pred_detail_list.append(detail)\n",
    "pred_approx_all = reduce(torch.stack(pred_approx_list, 0), \"h b l c -> b l c\",\"sum\")\n",
    "pred_detail_all = reduce(torch.stack(pred_detail_list, 0), \"h b l c -> b l c\",\"sum\")\n",
    "pred_approx_all.shape, pred_detail_all.shape"
   ]
  },
  {
   "cell_type": "code",
   "execution_count": null,
   "id": "bf45311b-e06b-4a6e-ae96-6547a216322c",
   "metadata": {},
   "outputs": [],
   "source": [
    "pred_len = 192\n",
    "pred_list = []\n",
    "for i in range(levels):\n",
    "    pred_len = int((pred_len + 8 - 1 )/ 2)\n",
    "    pred_list.append(pred_len)\n",
    "    if i == levels-1:\n",
    "        pred_list.append(pred_len)\n",
    "pred_list.reverse()\n",
    "pred_list"
   ]
  },
  {
   "cell_type": "code",
   "execution_count": null,
   "id": "7940f3ed-15d5-4170-83e9-037164a30cf4",
   "metadata": {},
   "outputs": [],
   "source": []
  }
 ],
 "metadata": {
  "kernelspec": {
   "display_name": "Python 3 (ipykernel)",
   "language": "python",
   "name": "python3"
  },
  "language_info": {
   "codemirror_mode": {
    "name": "ipython",
    "version": 3
   },
   "file_extension": ".py",
   "mimetype": "text/x-python",
   "name": "python",
   "nbconvert_exporter": "python",
   "pygments_lexer": "ipython3",
   "version": "3.10.16"
  }
 },
 "nbformat": 4,
 "nbformat_minor": 5
}
